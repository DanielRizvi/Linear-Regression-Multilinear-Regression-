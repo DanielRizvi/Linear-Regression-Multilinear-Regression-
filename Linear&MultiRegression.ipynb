{
  "nbformat": 4,
  "nbformat_minor": 0,
  "metadata": {
    "colab": {
      "provenance": []
    },
    "kernelspec": {
      "name": "python3",
      "display_name": "Python 3"
    },
    "language_info": {
      "name": "python"
    }
  },
  "cells": [
    {
      "cell_type": "markdown",
      "source": [
        "##**#CODEDANIEL**\n",
        "Linear & Multi Regression"
      ],
      "metadata": {
        "id": "LL65WywCRJQI"
      }
    },
    {
      "cell_type": "code",
      "execution_count": 28,
      "metadata": {
        "id": "grkKmSs6xH_U"
      },
      "outputs": [],
      "source": [
        "import pandas as pd\n",
        "import numpy as np\n",
        "\n",
        "import statsmodels.api\n",
        "\n",
        "import matplotlib.pyplot as plt\n",
        "from sklearn.linear_model import LinearRegression\n",
        "\n",
        "import statsmodels.api\n",
        "\n",
        "%matplotlib inline "
      ]
    },
    {
      "cell_type": "markdown",
      "source": [
        "This code imports several Python libraries for data analysis and visualization.\n",
        "\n",
        "**import pandas as pd:** imports the pandas library, which is a popular tool for data manipulation and analysis.\n",
        "\n",
        "**import numpy as np:** imports the NumPy library, which provides support for large, multi-dimensional arrays and matrices, as well as a range of mathematical functions to operate on them.\n",
        "\n",
        "**import statsmodels.api:** imports the statsmodels library, which provides a wide range of statistical models and tests for use in data analysis and machine learning.\n",
        "\n",
        "**import matplotlib.pyplot as plt:** imports the pyplot module from the Matplotlib library, which provides a range of functions for creating visualizations such as plots and charts.\n",
        "\n",
        "**from sklearn.linear_model import LinearRegression:** imports the LinearRegression class from the scikit-learn library, which provides a range of machine learning tools for data analysis and modeling.\n",
        "\n",
        "**import statsmodels.api:** imports the statsmodels library again. This line is redundant, as the library has already been imported earlier in the code.\n",
        "\n",
        "%matplotlib inline: sets up Jupyter Notebook to display plots inline (i.e., within the notebook itself), rather than in separate windows or files.\n",
        "\n",
        "Overall, this code sets up a range of tools and libraries for data analysis and visualization, which will be used later in the code to build and analyze a linear regression model of the relationship between TV ad spending and sales.\n",
        "\n",
        "\n",
        "\n"
      ],
      "metadata": {
        "id": "zv8r2FUESJdK"
      }
    },
    {
      "cell_type": "code",
      "source": [
        "data = pd.read_csv('https://raw.githubusercontent.com/marcopeix/datasciencewithmarco/master/data/Advertising.csv', index_col=0)"
      ],
      "metadata": {
        "id": "gvtsOL7QxqfK"
      },
      "execution_count": 29,
      "outputs": []
    },
    {
      "cell_type": "markdown",
      "source": [
        "Reading the Dataset"
      ],
      "metadata": {
        "id": "nwWFPUUpSkku"
      }
    },
    {
      "cell_type": "code",
      "source": [
        "data.head()"
      ],
      "metadata": {
        "colab": {
          "base_uri": "https://localhost:8080/",
          "height": 206
        },
        "id": "YJVQOlqzyiKq",
        "outputId": "b0f7c45e-a11b-4d39-f571-6a2e305b6667"
      },
      "execution_count": 30,
      "outputs": [
        {
          "output_type": "execute_result",
          "data": {
            "text/plain": [
              "      TV  radio  newspaper  sales\n",
              "1  230.1   37.8       69.2   22.1\n",
              "2   44.5   39.3       45.1   10.4\n",
              "3   17.2   45.9       69.3    9.3\n",
              "4  151.5   41.3       58.5   18.5\n",
              "5  180.8   10.8       58.4   12.9"
            ],
            "text/html": [
              "\n",
              "  <div id=\"df-af02d0a9-9fbd-4ce2-b251-8df56623a855\">\n",
              "    <div class=\"colab-df-container\">\n",
              "      <div>\n",
              "<style scoped>\n",
              "    .dataframe tbody tr th:only-of-type {\n",
              "        vertical-align: middle;\n",
              "    }\n",
              "\n",
              "    .dataframe tbody tr th {\n",
              "        vertical-align: top;\n",
              "    }\n",
              "\n",
              "    .dataframe thead th {\n",
              "        text-align: right;\n",
              "    }\n",
              "</style>\n",
              "<table border=\"1\" class=\"dataframe\">\n",
              "  <thead>\n",
              "    <tr style=\"text-align: right;\">\n",
              "      <th></th>\n",
              "      <th>TV</th>\n",
              "      <th>radio</th>\n",
              "      <th>newspaper</th>\n",
              "      <th>sales</th>\n",
              "    </tr>\n",
              "  </thead>\n",
              "  <tbody>\n",
              "    <tr>\n",
              "      <th>1</th>\n",
              "      <td>230.1</td>\n",
              "      <td>37.8</td>\n",
              "      <td>69.2</td>\n",
              "      <td>22.1</td>\n",
              "    </tr>\n",
              "    <tr>\n",
              "      <th>2</th>\n",
              "      <td>44.5</td>\n",
              "      <td>39.3</td>\n",
              "      <td>45.1</td>\n",
              "      <td>10.4</td>\n",
              "    </tr>\n",
              "    <tr>\n",
              "      <th>3</th>\n",
              "      <td>17.2</td>\n",
              "      <td>45.9</td>\n",
              "      <td>69.3</td>\n",
              "      <td>9.3</td>\n",
              "    </tr>\n",
              "    <tr>\n",
              "      <th>4</th>\n",
              "      <td>151.5</td>\n",
              "      <td>41.3</td>\n",
              "      <td>58.5</td>\n",
              "      <td>18.5</td>\n",
              "    </tr>\n",
              "    <tr>\n",
              "      <th>5</th>\n",
              "      <td>180.8</td>\n",
              "      <td>10.8</td>\n",
              "      <td>58.4</td>\n",
              "      <td>12.9</td>\n",
              "    </tr>\n",
              "  </tbody>\n",
              "</table>\n",
              "</div>\n",
              "      <button class=\"colab-df-convert\" onclick=\"convertToInteractive('df-af02d0a9-9fbd-4ce2-b251-8df56623a855')\"\n",
              "              title=\"Convert this dataframe to an interactive table.\"\n",
              "              style=\"display:none;\">\n",
              "        \n",
              "  <svg xmlns=\"http://www.w3.org/2000/svg\" height=\"24px\"viewBox=\"0 0 24 24\"\n",
              "       width=\"24px\">\n",
              "    <path d=\"M0 0h24v24H0V0z\" fill=\"none\"/>\n",
              "    <path d=\"M18.56 5.44l.94 2.06.94-2.06 2.06-.94-2.06-.94-.94-2.06-.94 2.06-2.06.94zm-11 1L8.5 8.5l.94-2.06 2.06-.94-2.06-.94L8.5 2.5l-.94 2.06-2.06.94zm10 10l.94 2.06.94-2.06 2.06-.94-2.06-.94-.94-2.06-.94 2.06-2.06.94z\"/><path d=\"M17.41 7.96l-1.37-1.37c-.4-.4-.92-.59-1.43-.59-.52 0-1.04.2-1.43.59L10.3 9.45l-7.72 7.72c-.78.78-.78 2.05 0 2.83L4 21.41c.39.39.9.59 1.41.59.51 0 1.02-.2 1.41-.59l7.78-7.78 2.81-2.81c.8-.78.8-2.07 0-2.86zM5.41 20L4 18.59l7.72-7.72 1.47 1.35L5.41 20z\"/>\n",
              "  </svg>\n",
              "      </button>\n",
              "      \n",
              "  <style>\n",
              "    .colab-df-container {\n",
              "      display:flex;\n",
              "      flex-wrap:wrap;\n",
              "      gap: 12px;\n",
              "    }\n",
              "\n",
              "    .colab-df-convert {\n",
              "      background-color: #E8F0FE;\n",
              "      border: none;\n",
              "      border-radius: 50%;\n",
              "      cursor: pointer;\n",
              "      display: none;\n",
              "      fill: #1967D2;\n",
              "      height: 32px;\n",
              "      padding: 0 0 0 0;\n",
              "      width: 32px;\n",
              "    }\n",
              "\n",
              "    .colab-df-convert:hover {\n",
              "      background-color: #E2EBFA;\n",
              "      box-shadow: 0px 1px 2px rgba(60, 64, 67, 0.3), 0px 1px 3px 1px rgba(60, 64, 67, 0.15);\n",
              "      fill: #174EA6;\n",
              "    }\n",
              "\n",
              "    [theme=dark] .colab-df-convert {\n",
              "      background-color: #3B4455;\n",
              "      fill: #D2E3FC;\n",
              "    }\n",
              "\n",
              "    [theme=dark] .colab-df-convert:hover {\n",
              "      background-color: #434B5C;\n",
              "      box-shadow: 0px 1px 3px 1px rgba(0, 0, 0, 0.15);\n",
              "      filter: drop-shadow(0px 1px 2px rgba(0, 0, 0, 0.3));\n",
              "      fill: #FFFFFF;\n",
              "    }\n",
              "  </style>\n",
              "\n",
              "      <script>\n",
              "        const buttonEl =\n",
              "          document.querySelector('#df-af02d0a9-9fbd-4ce2-b251-8df56623a855 button.colab-df-convert');\n",
              "        buttonEl.style.display =\n",
              "          google.colab.kernel.accessAllowed ? 'block' : 'none';\n",
              "\n",
              "        async function convertToInteractive(key) {\n",
              "          const element = document.querySelector('#df-af02d0a9-9fbd-4ce2-b251-8df56623a855');\n",
              "          const dataTable =\n",
              "            await google.colab.kernel.invokeFunction('convertToInteractive',\n",
              "                                                     [key], {});\n",
              "          if (!dataTable) return;\n",
              "\n",
              "          const docLinkHtml = 'Like what you see? Visit the ' +\n",
              "            '<a target=\"_blank\" href=https://colab.research.google.com/notebooks/data_table.ipynb>data table notebook</a>'\n",
              "            + ' to learn more about interactive tables.';\n",
              "          element.innerHTML = '';\n",
              "          dataTable['output_type'] = 'display_data';\n",
              "          await google.colab.output.renderOutput(dataTable, element);\n",
              "          const docLink = document.createElement('div');\n",
              "          docLink.innerHTML = docLinkHtml;\n",
              "          element.appendChild(docLink);\n",
              "        }\n",
              "      </script>\n",
              "    </div>\n",
              "  </div>\n",
              "  "
            ]
          },
          "metadata": {},
          "execution_count": 30
        }
      ]
    },
    {
      "cell_type": "markdown",
      "source": [
        "##Simple Linear Regression\n"
      ],
      "metadata": {
        "id": "vA1Q6ye2zsH4"
      }
    },
    {
      "cell_type": "code",
      "source": [
        "plt.figure(figsize=(16,8))\n",
        "plt.scatter(data['TV'], data['sales'], c='black')\n",
        "plt.xlabel('Money Spent on TV Ads ($)')\n",
        "plt.ylabel('Sales (k$)')\n",
        "plt.show()"
      ],
      "metadata": {
        "colab": {
          "base_uri": "https://localhost:8080/",
          "height": 497
        },
        "id": "ahkL-r-_ztdw",
        "outputId": "62036731-6bcf-41cd-b79a-26cda150f3e4"
      },
      "execution_count": 31,
      "outputs": [
        {
          "output_type": "display_data",
          "data": {
            "text/plain": [
              "<Figure size 1152x576 with 1 Axes>"
            ],
            "image/png": "[encoded data removed]"
          },
          "metadata": {
            "needs_background": "light"
          }
        }
      ]
    },
    {
      "cell_type": "markdown",
      "source": [
        "**plt.figure(figsize=(16,8)):** creates a new figure with the specified width and height (in inches). This line is not strictly necessary, but it's a good practice to use it to set the size of the figure before creating any plots.\n",
        "\n",
        "**plt.scatter(data['TV'], data['sales'], c='black'):** creates a scatter plot of the 'TV' and 'sales' variables, with the 'TV' variable on the x-axis and the 'sales' variable on the y-axis. Each point in the plot corresponds to one data point in the dataset, and its position is determined by the values of the 'TV' and 'sales' variables for that data point. The c='black' argument sets the color of the points to black.\n",
        "\n"
      ],
      "metadata": {
        "id": "ZLcDt-4HRZPp"
      }
    },
    {
      "cell_type": "code",
      "source": [
        "X = data['TV'].values.reshape(-1,1)\n",
        "y = data['sales'].values.reshape(-1,1)\n",
        "\n",
        "reg = LinearRegression() \n",
        "reg.fit(X,y)\n",
        "\n",
        "print(f\"The Linear Model is: \\n Y = (reg.intercept_[0]) + (reg.coef_[0][0]*TV\")"
      ],
      "metadata": {
        "colab": {
          "base_uri": "https://localhost:8080/"
        },
        "id": "kymDf5Yc0uky",
        "outputId": "4743a228-68f3-459a-eded-b3aac1621365"
      },
      "execution_count": 32,
      "outputs": [
        {
          "output_type": "stream",
          "name": "stdout",
          "text": [
            "The Linear Model is: \n",
            " Y = (reg.intercept_[0]) + (reg.coef_[0][0]*TV\n"
          ]
        }
      ]
    },
    {
      "cell_type": "markdown",
      "source": [
        "**X = data['TV'].values.reshape(-1,1):** selects the 'TV' column of the dataset, converts it to a one-dimensional NumPy array using the values attribute, and then converts it to a two-dimensional NumPy array with one column using the reshape() method. This is assigned to the variable X.\n",
        "\n",
        "**y = data['sales'].values.reshape(-1,1):** selects the 'sales' column of the dataset, converts it to a one-dimensional NumPy array using the values attribute, and then converts it to a two-dimensional NumPy array with one column using the reshape() method. This is assigned to the variable y.\n",
        "\n",
        "**reg = LinearRegression():** creates an instance of the LinearRegression class and assigns it to the variable reg.\n",
        "\n",
        "**reg.fit(X,y):** fits the simple linear regression model using X as the predictor variable and y as the response variable.\n",
        "\n",
        "**print(f\"The Linear Model is:** \\n Y = (reg.intercept_[0]) + (reg.coef_[0][0]*TV\"): prints the equation of the linear model, including the intercept term and the coefficient of the 'TV' variable"
      ],
      "metadata": {
        "id": "IM6naIzKQrbL"
      }
    },
    {
      "cell_type": "code",
      "source": [
        "#Plotting the LINE\n",
        "predictions = reg.predict(X)\n",
        "\n",
        "plt.figure(figsize=(16,8))\n",
        "plt.scatter(X,y, c=\"RED\")\n",
        "plt.plot(X, predictions, c=\"blue\", linewidth=2)\n",
        "\n",
        "plt.xlabel('Money Spent on TV Ads($)')\n",
        "plt.ylabel('Sales(k$)')\n",
        "plt.show()"
      ],
      "metadata": {
        "colab": {
          "base_uri": "https://localhost:8080/",
          "height": 497
        },
        "id": "hZf5m8Z14ncX",
        "outputId": "88644a24-3bb2-4034-b17a-798841746f63"
      },
      "execution_count": 33,
      "outputs": [
        {
          "output_type": "display_data",
          "data": {
            "text/plain": [
              "<Figure size 1152x576 with 1 Axes>"
            ],
            "image/png": "[encoded data removed]"
          },
          "metadata": {
            "needs_background": "light"
          }
        }
      ]
    },
    {
      "cell_type": "markdown",
      "source": [
        "predictions = reg.predict(X): uses the fitted linear regression model to make predictions of the response variable for each value of the predictor variable in X. The predicted values are assigned to the variable predictions.\n",
        "\n",
        "plt.figure(figsize=(16,8)): creates a new figure object with a specified size of 16 inches by 8 inches.\n",
        "\n",
        "plt.scatter(X,y, c=\"RED\"): creates a scatter plot of the 'TV' variable (X) on the x-axis and the 'sales' variable (y) on the y-axis, with red dots representing the data points.\n",
        "\n",
        "plt.plot(X, predictions, c=\"blue\", linewidth=2): overlays a blue line on top of the scatter plot, representing the linear regression line that was fitted using the data. The line is plotted using the predicted values (predictions) on the y-axis and the 'TV' variable (X) on the x-axis.\n",
        "\n",
        "plt.xlabel('Money Spent on TV Ads($)'): adds a label to the x-axis of the plot.\n",
        "\n",
        "plt.ylabel('Sales(k$)'): adds a label to the y-axis of the plot.\n",
        "\n",
        "plt.show(): displays the plot on the screen."
      ],
      "metadata": {
        "id": "KXCa9NdEQUq-"
      }
    },
    {
      "cell_type": "markdown",
      "source": [
        "##Access the Quality of Our Model"
      ],
      "metadata": {
        "id": "a1GEETJT7md3"
      }
    },
    {
      "cell_type": "code",
      "source": [
        "import statsmodels.api as sm"
      ],
      "metadata": {
        "id": "bgk3mEra_z27"
      },
      "execution_count": 40,
      "outputs": []
    },
    {
      "cell_type": "code",
      "source": [
        "X = data['TV']\n",
        "y = data['sales']\n",
        "\n",
        "exog = sm.add_constant(X)\n",
        "est = sm.OLS(y, exog).fit()\n",
        "\n",
        "print(est.summary())"
      ],
      "metadata": {
        "colab": {
          "base_uri": "https://localhost:8080/"
        },
        "id": "-ad6mBJ27XL6",
        "outputId": "43ecba57-4070-49c2-c93b-e0a336213075"
      },
      "execution_count": 41,
      "outputs": [
        {
          "output_type": "stream",
          "name": "stdout",
          "text": [
            "                            OLS Regression Results                            \n",
            "==============================================================================\n",
            "Dep. Variable:                  sales   R-squared:                       0.612\n",
            "Model:                            OLS   Adj. R-squared:                  0.610\n",
            "Method:                 Least Squares   F-statistic:                     312.1\n",
            "Date:                Sat, 18 Feb 2023   Prob (F-statistic):           1.47e-42\n",
            "Time:                        10:21:01   Log-Likelihood:                -519.05\n",
            "No. Observations:                 200   AIC:                             1042.\n",
            "Df Residuals:                     198   BIC:                             1049.\n",
            "Df Model:                           1                                         \n",
            "Covariance Type:            nonrobust                                         \n",
            "==============================================================================\n",
            "                 coef    std err          t      P>|t|      [0.025      0.975]\n",
            "------------------------------------------------------------------------------\n",
            "const          7.0326      0.458     15.360      0.000       6.130       7.935\n",
            "TV             0.0475      0.003     17.668      0.000       0.042       0.053\n",
            "==============================================================================\n",
            "Omnibus:                        0.531   Durbin-Watson:                   1.935\n",
            "Prob(Omnibus):                  0.767   Jarque-Bera (JB):                0.669\n",
            "Skew:                          -0.089   Prob(JB):                        0.716\n",
            "Kurtosis:                       2.779   Cond. No.                         338.\n",
            "==============================================================================\n",
            "\n",
            "Notes:\n",
            "[1] Standard Errors assume that the covariance matrix of the errors is correctly specified.\n"
          ]
        },
        {
          "output_type": "stream",
          "name": "stderr",
          "text": [
            "/usr/local/lib/python3.8/dist-packages/statsmodels/tsa/tsatools.py:142: FutureWarning: In a future version of pandas all arguments of concat except for the argument 'objs' will be keyword-only\n",
            "  x = pd.concat(x[::order], 1)\n"
          ]
        }
      ]
    },
    {
      "cell_type": "markdown",
      "source": [
        "X = data['TV']: selects the 'TV' column of the dataset and assigns it to the variable X.\n",
        "\n",
        "y = data['sales']: selects the 'sales' column of the dataset and assigns it to the variable y.\n",
        "\n",
        "exog = sm.add_constant(X): adds a column of ones to the X variable to serve as the intercept term and assigns the result to exog.\n",
        "\n",
        "est = sm.OLS(y, exog).fit(): fits an ordinary least squares (OLS) regression model using y as the response variable and exog as the predictor variable, then assigns the result to est.\n",
        "\n",
        "print(est.summary()): prints a summary of the regression results, which includes information such as the coefficients, standard errors, t-values, and p-values of the predictor variable(s), as well as goodness-of-fit statistics like R-squared and the F-statistic."
      ],
      "metadata": {
        "id": "9aFJCXKXQB0S"
      }
    },
    {
      "cell_type": "markdown",
      "source": [
        "##**MultiLinear** **Regression**"
      ],
      "metadata": {
        "id": "ns6wkaqmJUUH"
      }
    },
    {
      "cell_type": "code",
      "source": [
        "Xs = data.drop(['sales'], axis=1)\n",
        "y = data['sales'].values.reshape(-1, 1)\n",
        "\n",
        "reg = LinearRegression()\n",
        "reg.fit(Xs, y)\n",
        "\n",
        "print(f\"The Linear Model is: \\n Y = {reg.intercept_[0]} + {reg.coef_[0][0]}*TV + {reg.coef_[0][1]}*radio + {reg.coef_[0][2]}*newspaper\")"
      ],
      "metadata": {
        "colab": {
          "base_uri": "https://localhost:8080/"
        },
        "id": "L11LMqVlJX-A",
        "outputId": "f6edaa8a-9a6d-402b-f1bc-4a8366078a98"
      },
      "execution_count": 48,
      "outputs": [
        {
          "output_type": "stream",
          "name": "stdout",
          "text": [
            "The Linear Model is: \n",
            " Y = 2.938889369459412 + 0.0457646454553976*TV + 0.18853001691820448*radio + -0.0010374930424763285*newspaper\n"
          ]
        }
      ]
    },
    {
      "cell_type": "markdown",
      "source": [
        "Xs = data.drop(['sales'], axis=1): selects all the columns of the dataset except for 'sales' and assigns them to the variable Xs.\n",
        "\n",
        "y = data['sales'].values.reshape(-1, 1): selects the 'sales' column of the dataset and converts it to a two-dimensional NumPy array with one column using the reshape() method. This is assigned to the variable y.\n",
        "\n",
        "reg = LinearRegression(): creates an instance of the LinearRegression class and assigns it to the variable reg.\n",
        "\n",
        "reg.fit(Xs, y): fits the linear regression model using Xs as the predictor variables and y as the response variable.\n",
        "\n",
        "print(f\"The Linear Model is: \\n Y = {reg.intercept_[0]} + {reg.coef_[0][0]}*TV + {reg.coef_[0][1]}*radio + {reg.coef_[0][2]}*newspaper\"): prints the equation of the linear model, including the intercept term and the coefficients of the predictor variables."
      ],
      "metadata": {
        "id": "Jo6Rc_YRPm3T"
      }
    },
    {
      "cell_type": "code",
      "source": [
        "X = np.column_stack((data['TV'], data['radio'], data['newspaper']))\n",
        "y = data['sales'].values.reshape(-1,1)\n",
        "\n",
        "exog = sm.add_constant(X)\n",
        "est = sm.OLS(y,exog).fit()\n",
        "\n",
        "print(est.summary())"
      ],
      "metadata": {
        "colab": {
          "base_uri": "https://localhost:8080/"
        },
        "id": "fsvr9b1APp1V",
        "outputId": "c5e582b1-ac96-469f-991d-fa97d635296c"
      },
      "execution_count": 54,
      "outputs": [
        {
          "output_type": "stream",
          "name": "stdout",
          "text": [
            "                            OLS Regression Results                            \n",
            "==============================================================================\n",
            "Dep. Variable:                      y   R-squared:                       0.897\n",
            "Model:                            OLS   Adj. R-squared:                  0.896\n",
            "Method:                 Least Squares   F-statistic:                     570.3\n",
            "Date:                Sat, 18 Feb 2023   Prob (F-statistic):           1.58e-96\n",
            "Time:                        11:41:48   Log-Likelihood:                -386.18\n",
            "No. Observations:                 200   AIC:                             780.4\n",
            "Df Residuals:                     196   BIC:                             793.6\n",
            "Df Model:                           3                                         \n",
            "Covariance Type:            nonrobust                                         \n",
            "==============================================================================\n",
            "                 coef    std err          t      P>|t|      [0.025      0.975]\n",
            "------------------------------------------------------------------------------\n",
            "const          2.9389      0.312      9.422      0.000       2.324       3.554\n",
            "x1             0.0458      0.001     32.809      0.000       0.043       0.049\n",
            "x2             0.1885      0.009     21.893      0.000       0.172       0.206\n",
            "x3            -0.0010      0.006     -0.177      0.860      -0.013       0.011\n",
            "==============================================================================\n",
            "Omnibus:                       60.414   Durbin-Watson:                   2.084\n",
            "Prob(Omnibus):                  0.000   Jarque-Bera (JB):              151.241\n",
            "Skew:                          -1.327   Prob(JB):                     1.44e-33\n",
            "Kurtosis:                       6.332   Cond. No.                         454.\n",
            "==============================================================================\n",
            "\n",
            "Notes:\n",
            "[1] Standard Errors assume that the covariance matrix of the errors is correctly specified.\n"
          ]
        }
      ]
    },
    {
      "cell_type": "code",
      "source": [],
      "metadata": {
        "id": "hJShZ_NaTRmf"
      },
      "execution_count": null,
      "outputs": []
    },
    {
      "cell_type": "markdown",
      "source": [
        "**X = np.column_stack((data['TV'], data['radio'], data['newspaper'])): **creates a matrix X with three columns, corresponding to the 'TV', 'radio', and 'newspaper' variables, respectively. This line stacks the columns horizontally using the np.column_stack() function from NumPy.\n",
        "\n",
        "**y = data['sales'].values.reshape(-1,1):** creates a column vector y containing the 'sales' variable, reshaped to have one column and as many rows as the original data. This line uses the .values attribute of a pandas DataFrame to get the underlying data as a NumPy array, and then applies the .reshape() method to convert it to the desired shape.\n",
        "\n",
        "**exog = sm.add_constant(X):** adds a constant column to the matrix X using the add_constant() function from statsmodels. This constant term is needed to fit the intercept term in the regression model.\n",
        "\n",
        "**est = sm.OLS(y,exog).fit()**: fits a multiple linear regression model to the data, using the ordinary least squares (OLS) method from statsmodels. This line creates a new object est of the OLS class, and applies its .fit() method to the data. This method estimates the regression coefficients by minimizing the sum of squared residuals between the predicted values and the actual values, and returns an object of the RegressionResults class that contains various statistics and diagnostics about the model.\n",
        "\n",
        "print(est.summary()): prints a summary of the regression results to the console. This line applies the .summary() method to the RegressionResults object est, which formats and prints a detailed report of the model statistics, including the coefficients, standard errors, t-statistics, p-values, and various goodness-of-fit measures."
      ],
      "metadata": {
        "id": "X6nM44K9UQvQ"
      }
    },
    {
      "cell_type": "code",
      "source": [],
      "metadata": {
        "id": "p6j9BTpJUkvr"
      },
      "execution_count": null,
      "outputs": []
    }
  ]
}